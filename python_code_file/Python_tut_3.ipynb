{
 "cells": [
  {
   "cell_type": "markdown",
   "metadata": {},
   "source": [
    "# File Hadling and File I/O basics."
   ]
  },
  {
   "cell_type": "markdown",
   "metadata": {},
   "source": [
    "\n",
    "# \"r\" - Open File in Read Mode\n",
    "# \"w\" - Open File in Write Mode\n",
    "# \"x\" - Creates File if not exist\n",
    "# \"a\" - Add more content of file/append\n",
    "# \"t\" - Text mode\n",
    "# \"b\" - Binary Mode\n",
    "# \"+\" - Read and Write both\n"
   ]
  },
  {
   "cell_type": "code",
   "execution_count": null,
   "metadata": {},
   "outputs": [],
   "source": [
    "f=open(\"test.txt\", \"rt\")\n",
    "content=f.read()\n",
    "print(type(content))\n",
    "print(content)\n",
    "\n",
    "f.close()"
   ]
  },
  {
   "cell_type": "code",
   "execution_count": null,
   "metadata": {},
   "outputs": [],
   "source": [
    "f=open(\"test.txt\",\"rt\")\n",
    "content=f.read(5)\n",
    "print(content)\n",
    "\n",
    "f.close()"
   ]
  },
  {
   "cell_type": "code",
   "execution_count": null,
   "metadata": {},
   "outputs": [],
   "source": [
    "f=open(\"test.txt\",\"rt\")\n",
    "content=f.read()\n",
    "\n",
    "for char in content:\n",
    "    print(char, end=\" \")\n",
    "\n",
    "f.close()"
   ]
  },
  {
   "cell_type": "code",
   "execution_count": null,
   "metadata": {},
   "outputs": [],
   "source": [
    "#Read line function\n",
    "f=open(\"test.txt\", \"rt\")\n",
    "\n",
    "# print(f.readline())\n",
    "# print(f.readline())\n",
    "\n",
    "for _ in range(3):\n",
    "    print(f.readline())\n",
    "\n",
    "f.close()\n"
   ]
  },
  {
   "cell_type": "code",
   "execution_count": null,
   "metadata": {},
   "outputs": [],
   "source": [
    "#readlines for print in form of list\n",
    "f=open(\"test.txt\", \"rt\")\n",
    "# print(f.readlines())\n",
    "a=f.readlines()\n",
    "print(a)\n",
    "f.close()"
   ]
  },
  {
   "cell_type": "code",
   "execution_count": null,
   "metadata": {},
   "outputs": [],
   "source": [
    "#Writing and Appending to file\n",
    "f=open(\"test_new_123\", \"wt\")\n",
    "f.write(\"Python Scripting\")\n",
    "f.close()"
   ]
  },
  {
   "cell_type": "code",
   "execution_count": null,
   "metadata": {},
   "outputs": [],
   "source": [
    "f=open(\"test_new\", \"at\")\n",
    "f.write(\" I hope you are Enjoying\")\n",
    "f.close()"
   ]
  },
  {
   "cell_type": "code",
   "execution_count": null,
   "metadata": {},
   "outputs": [],
   "source": [
    "# #Access file by  with Block(Context manager)\n",
    "with open(\"test.txt\",\"rt\") as f:#it replaces both functions like open and close\n",
    "    a=f.read()\n",
    "    print(a)\n"
   ]
  },
  {
   "cell_type": "markdown",
   "metadata": {},
   "source": [
    "# tell() and seek() method"
   ]
  },
  {
   "cell_type": "code",
   "execution_count": null,
   "metadata": {},
   "outputs": [],
   "source": [
    "f=open(\"test.txt\",\"rt\")\n",
    "# #\n",
    "print(f.tell()) #It tells where is the position of file pointer in our case f\n",
    "print(f.readline())\n",
    "print(f.tell())\n",
    "print(f.readline())\n",
    "print(f.tell())"
   ]
  },
  {
   "cell_type": "code",
   "execution_count": null,
   "metadata": {},
   "outputs": [],
   "source": [
    "#Seek moves your file pointer to the position\n",
    "\n",
    "f.seek(0)\n",
    "print(f.tell())\n",
    "print(f.readline())"
   ]
  },
  {
   "cell_type": "code",
   "execution_count": null,
   "metadata": {},
   "outputs": [],
   "source": [
    "#enumerate() method\n",
    "\n",
    "lst=[\"soap\", \"vegetables\", \"tea\", \"coffee\"]\n",
    "\n",
    "# i=1\n",
    "# for item in lst:\n",
    "#     if i % 2 is not 0:\n",
    "#         print(f\"Buy this item: {item}\")\n",
    "#     i+=1\n",
    "\n",
    "for index, item in enumerate(lst):\n",
    "#     print(f\"{index} : {item}\")\n",
    "    if index%2==0:\n",
    "        print(f\"Buy this item: {item}\")"
   ]
  },
  {
   "cell_type": "markdown",
   "metadata": {},
   "source": [
    "# Comprehesion(List, Dictionary and generators)"
   ]
  },
  {
   "cell_type": "code",
   "execution_count": 3,
   "metadata": {},
   "outputs": [
    {
     "name": "stdout",
     "output_type": "stream",
     "text": [
      "<generator object <genexpr> at 0x0000021585253360>\n",
      "0\n",
      "5\n",
      "10\n",
      "15\n",
      "20\n",
      "25\n",
      "30\n",
      "35\n",
      "40\n"
     ]
    }
   ],
   "source": [
    "# list=[]\n",
    "# for i in range(1,101):\n",
    "#     if i % 3 == 0:\n",
    "#         list.append(i)\n",
    "# #\n",
    "# print(list, end=\" \")\n",
    "\n",
    "# #Above code will be done by list comprehension\n",
    "\n",
    "# lst=[ i for i in range(1,101) if i % 3 == 0 ]\n",
    "# print(lst)\n",
    "\n",
    "\n",
    "\n",
    "# list_1=[ i for i in range(100) if i%3 == 0]\n",
    "\n",
    "\n",
    "# # # list_1=[i for i in range(100) if i%3==0]\n",
    "# print(list_1, end=\" \")\n",
    "\n",
    "\n",
    "\n",
    "\n",
    "\n",
    "\n",
    "#Assignment: Create a dictionary from a given dictionary having keys and values to be interchanged\n",
    "\n",
    "\n",
    "# # #Dictionary Comprehension\n",
    "# dict1={i:f\"Item {i}\" for i in range(5)}\n",
    "# print(dict1.items())\n",
    "# dict2={a:b for b,a in dict1.items()}\n",
    "# print(dict1)\n",
    "# print(dict2)\n",
    "\n",
    "\n",
    "# # #\n",
    "# # #\n",
    "# # # #set Comprehension\n",
    "# dresses={dress for dress in [\"dress1\", \"dress2\", \"dress3\", \"dress2\"]}\n",
    "# print (dresses)\n",
    "\n",
    "\n",
    "\n",
    "# #\n",
    "# #\n",
    "# # # #Generators Comprehensions\n",
    "evens=(i for i in range(100) if i % 5 ==0)#--[0,5,10.....,95]\n",
    "print(evens)\n",
    "for _ in range(5):\n",
    "    print(evens.__next__())\n",
    "print(evens.__next__())\n",
    "print(evens.__next__())\n",
    "print(evens.__next__())\n",
    "print(evens.__next__())"
   ]
  },
  {
   "cell_type": "code",
   "execution_count": null,
   "metadata": {},
   "outputs": [],
   "source": [
    "# random module in python\n",
    "\n",
    "import random\n",
    "# # #\n",
    "# random_number=random.randint(1,6)\n",
    "# # # # # # # #\n",
    "# print(random_number)\n",
    "# # # # # #\n",
    "# rand=random.random()\n",
    "# print(rand) # It generates number from 0 to 1\n",
    "# # # # # \"# #\n",
    "# # # # #\n",
    "# lst=[\"StarPlus\", \"DD1\", \"AAJTak\"]\n",
    "# choice_1=random.choice(lst)\n",
    "# print(choice_1)"
   ]
  },
  {
   "cell_type": "markdown",
   "metadata": {},
   "source": [
    "# OS module(It is built in module )"
   ]
  },
  {
   "cell_type": "code",
   "execution_count": null,
   "metadata": {},
   "outputs": [],
   "source": [
    "import os\n",
    "import math\n",
    "\n",
    "# print(dir(math)) #Object Introspection\n",
    "\n",
    "# print(os.getcwd())\n",
    "\n",
    "\n",
    "# os.chdir(\"C://\")\n",
    "# print(os.getcwd())\n",
    "\n",
    "f=open(\"test.txt\")\n",
    "\n",
    "\n",
    "# print(os.listdir())\n",
    "\n",
    "\n",
    "# os.mkdir(\"This/that\")\n",
    "# os.makedirs(\"This/that\")\n",
    "\n",
    "\n",
    "\n",
    "# os.rename(test_1, test_2)\n",
    "\n",
    "\n",
    "# print(os.environ.get(\"Path\"))\n",
    "\n",
    "\n",
    "\n",
    "print(os.path.exists(\"C:\\\\\"))\n",
    "\n",
    "\n",
    "\n",
    "print(os.path.isdir(\"C:\\\\Program Files\"))"
   ]
  },
  {
   "cell_type": "code",
   "execution_count": null,
   "metadata": {},
   "outputs": [],
   "source": [
    "numpy, matplotlib and pandas"
   ]
  }
 ],
 "metadata": {
  "kernelspec": {
   "display_name": "Python 3",
   "language": "python",
   "name": "python3"
  }
 },
 "nbformat": 4,
 "nbformat_minor": 4
}
