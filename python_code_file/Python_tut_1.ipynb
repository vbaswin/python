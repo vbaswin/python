{
 "cells": [
  {
   "cell_type": "markdown",
   "metadata": {},
   "source": [
    "# Hello Welcome to python Session 1"
   ]
  },
  {
   "cell_type": "code",
   "execution_count": 7,
   "metadata": {},
   "outputs": [
    {
     "name": "stdout",
     "output_type": "stream",
     "text": [
      "Hello World Hii all\n"
     ]
    }
   ],
   "source": [
    "\"\"\"\n",
    "cgfkacfg\n",
    "chkacgf\n",
    "akcvgfka\n",
    "bgfka\n",
    "\"\"\"\n",
    "\n",
    "\n",
    "print(\"Hello World\", end=\" \")\n",
    "print(\"Hii all\")\n"
   ]
  },
  {
   "cell_type": "code",
   "execution_count": 8,
   "metadata": {},
   "outputs": [
    {
     "name": "stdout",
     "output_type": "stream",
     "text": [
      "5\n"
     ]
    }
   ],
   "source": [
    "a=2\n",
    "b=3\n",
    "print(a+b)"
   ]
  },
  {
   "cell_type": "markdown",
   "metadata": {},
   "source": [
    "# Variables and Data Types\n",
    "integer, float, string, boolean, complex. The python programming follows the concept of dynamic declaration meaning we do not have to declare the data typeof the variable it is automatically assigned based on the value we are storing in the variable. To checj the type of variable we use the type comamnd and then use the print command to print it."
   ]
  },
  {
   "cell_type": "code",
   "execution_count": 9,
   "metadata": {},
   "outputs": [
    {
     "name": "stdout",
     "output_type": "stream",
     "text": [
      "<class 'int'>\n"
     ]
    }
   ],
   "source": [
    "# print(type(a))\n",
    "\n",
    "print(type(a))"
   ]
  },
  {
   "cell_type": "code",
   "execution_count": 14,
   "metadata": {},
   "outputs": [
    {
     "name": "stdout",
     "output_type": "stream",
     "text": [
      "The value of b is 23.5 and its type is <class 'float'>\n"
     ]
    }
   ],
   "source": [
    "b=23.5\n",
    "c=\"Hello\"\n",
    "d=\"x\"\n",
    "e=True\n",
    "f=3 + 5j\n",
    "\n",
    "\n",
    "\n",
    "print(f\"The value of b is {b} and its type is {type(b)}\")\n",
    "\n",
    "\n",
    "\n",
    "# print(\"type of b is\", type(b))\n",
    "# print(\"type of c is\", type(c))\n",
    "# print(\"type of d is\", type(d))\n",
    "# print(\"type of e is\", type(e))\n",
    "# print(\"type of f is\", type(f))"
   ]
  },
  {
   "cell_type": "code",
   "execution_count": 17,
   "metadata": {
    "scrolled": true
   },
   "outputs": [
    {
     "name": "stdout",
     "output_type": "stream",
     "text": [
      "Enter the value for var1:5\n",
      "<class 'str'>\n"
     ]
    }
   ],
   "source": [
    "#Input Command\n",
    "\n",
    "var1=input(\"Enter the value for var1:\")\n",
    "print(type(var1))\n"
   ]
  },
  {
   "cell_type": "code",
   "execution_count": 20,
   "metadata": {},
   "outputs": [
    {
     "ename": "NameError",
     "evalue": "name 'inpu' is not defined",
     "output_type": "error",
     "traceback": [
      "\u001b[1;31m-------------------------------------------------------------------\u001b[0m",
      "\u001b[1;31mNameError\u001b[0m                         Traceback (most recent call last)",
      "\u001b[1;32m<ipython-input-20-87cf91334cf0>\u001b[0m in \u001b[0;36m<module>\u001b[1;34m\u001b[0m\n\u001b[1;32m----> 1\u001b[1;33m \u001b[0mvar2\u001b[0m\u001b[1;33m=\u001b[0m\u001b[0mint\u001b[0m\u001b[1;33m(\u001b[0m\u001b[0minpu\u001b[0m\u001b[1;33m(\u001b[0m\u001b[1;34m\"Enter value of var2: \"\u001b[0m\u001b[1;33m)\u001b[0m\u001b[1;33m)\u001b[0m\u001b[1;33m\u001b[0m\u001b[0m\n\u001b[0m\u001b[0;32m      2\u001b[0m \u001b[0mprint\u001b[0m\u001b[1;33m(\u001b[0m\u001b[0mtype\u001b[0m\u001b[1;33m(\u001b[0m\u001b[0mvar2\u001b[0m\u001b[1;33m)\u001b[0m\u001b[1;33m)\u001b[0m\u001b[1;33m\u001b[0m\u001b[0m\n",
      "\u001b[1;31mNameError\u001b[0m: name 'inpu' is not defined"
     ]
    }
   ],
   "source": [
    "var2=int(input(\"Enter value of var2: \"))\n",
    "print(type(var2))"
   ]
  },
  {
   "cell_type": "code",
   "execution_count": 21,
   "metadata": {},
   "outputs": [
    {
     "name": "stdout",
     "output_type": "stream",
     "text": [
      "HelloWorld\n"
     ]
    }
   ],
   "source": [
    "#Concatenation (+ operator and string as operand it concanate two strings)\n",
    "var3=\"Hello\"\n",
    "var4=\"World\"\n",
    "print(var3+var4)\n",
    "# print(var3, end=\"\")\n",
    "# print(var4)"
   ]
  },
  {
   "cell_type": "code",
   "execution_count": 23,
   "metadata": {},
   "outputs": [
    {
     "name": "stdout",
     "output_type": "stream",
     "text": [
      "Nitesh Nitesh Nitesh Nitesh Nitesh \n"
     ]
    }
   ],
   "source": [
    "#Repetation operation(* operator and one operand as integer and another operand as string it repeats string number of times equal to the integer)\n",
    "var5=5\n",
    "var6=\"Nitesh \"\n",
    "print(var5*var6)"
   ]
  },
  {
   "cell_type": "code",
   "execution_count": 36,
   "metadata": {},
   "outputs": [
    {
     "name": "stdout",
     "output_type": "stream",
     "text": [
      "nhy\n"
     ]
    }
   ],
   "source": [
    "#String Slicing\n",
    "mystr=\"python\"\n",
    "\n",
    "# print(mystr[10:14])\n",
    "\n",
    "# print(type(mystr))\n",
    "# print(len(mystr))\n",
    "\n",
    "# print(mystr[0:6]) #Excludes the last index ie it does not consider the character at index 6\n",
    "# # \n",
    "# print(mystr[0:len(mystr)])#Initial index to be zero and last index to be equal to len of string\n",
    "# print(mystr[:])\n",
    "# print(mystr)\n",
    "# print(mystr[0:len(mystr)])\n",
    "\n",
    "# print(mystr[-1])\n",
    "\n",
    "\n",
    "# print(mystr[::-1]) #It includes step size of two\n",
    "# \n",
    "print(mystr[::-2])#It reverse the string"
   ]
  },
  {
   "cell_type": "code",
   "execution_count": null,
   "metadata": {},
   "outputs": [],
   "source": [
    "# Methods of class str\n",
    "\n",
    "mystr=\"python is good language\"\n",
    "# print(mystr.isalnum())\n",
    "\n",
    "\n",
    "print(mystr.endswith(\"language\"))\n",
    "\n",
    "# print(mystr.count(\"p\"))\n",
    "\n",
    "# print(mystr.capitalize())\n",
    "\n",
    "print(mystr.lower())\n",
    "\n",
    "\n",
    "\n",
    "print(mystr.replace(\"is\", \"are\"))\n",
    "print(mystr.upper())"
   ]
  },
  {
   "cell_type": "markdown",
   "metadata": {},
   "source": [
    "# 1. Mutable(list, dictionary and set)\n",
    "# 2. Immutable(int, str and tuple)"
   ]
  },
  {
   "cell_type": "markdown",
   "metadata": {},
   "source": [
    "# List:\n",
    "Lists are used to store multiple items in a single variable.\n",
    "\n",
    "\n",
    "# List Items\n",
    "List items are ordered, changeable, and allow duplicate values.\n",
    "\n",
    "List items are indexed, the first item has index [0], the second item has index [1] etc.\n",
    "\n",
    "# Ordered\n",
    "When we say that lists are ordered, it means that the items have a defined order, and that order will not change.\n",
    "\n",
    "If you add new items to a list, the new items will be placed at the end of the list.\n",
    "\n",
    "List are written with a square bracket."
   ]
  },
  {
   "cell_type": "code",
   "execution_count": null,
   "metadata": {},
   "outputs": [],
   "source": [
    "groceery=[\"Deo\", \"Soap\", \"Pencil\", \"Utensils\"]\n",
    "# print(max(groceery))\n",
    "\n",
    "\n",
    "\n",
    "\n",
    "\n",
    "print(type(groceery))\n",
    "\n",
    "print(groceery[0:2])\n",
    "\n",
    "print(groceery[::-1])\n"
   ]
  },
  {
   "cell_type": "code",
   "execution_count": null,
   "metadata": {},
   "outputs": [],
   "source": [
    "numbers=[2, 56, 18, 9, 67]\n",
    "\n",
    "# numbers[2]=88\n",
    "# print(numbers)\n",
    "\n",
    "# numbers.sort()\n",
    "# print(numbers)\n",
    "\n",
    "# numbers.reverse()\n",
    "# print(numbers)\n",
    "\n",
    "# print(numbers[0:4])\n",
    "\n",
    "# print(len(numbers))\n",
    "\n",
    "# print(max(numbers))\n",
    "\n",
    "# print(min(numbers))\n",
    "\n",
    "# print(numbers[::])\n",
    "\n",
    "# print(numbers[::-1])\n",
    "\n",
    "# numbers.append(49)\n",
    "# print(numbers)\n",
    "\n",
    "# numbers.insert(2,33)\n",
    "# print(numbers)\n",
    "\n",
    "# numbers.remove(9)\n",
    "# print(numbers)\n",
    "\n",
    "b=[1,2,3,4,5]\n",
    "# numbers.append(b)\n",
    "# print(numbers)\n",
    "\n",
    "# numbers.extend(b)\n",
    "# print(numbers)\n",
    "\n",
    "# print(numbers + b)\n",
    "\n",
    "numbers.pop()\n",
    "print(numbers)"
   ]
  },
  {
   "cell_type": "code",
   "execution_count": 5,
   "metadata": {},
   "outputs": [
    {
     "output_type": "stream",
     "name": "stdout",
     "text": [
      "hello\n"
     ]
    }
   ],
   "source": [
    "a=[5,67,[1,4,[8,9]],\"hello\",\"test\"]\n",
    "print(a[3])\n"
   ]
  },
  {
   "cell_type": "markdown",
   "metadata": {},
   "source": [
    "# Tuple:\n",
    "Tuples are used to store multiple items in a single variable.\n",
    "\n",
    "A tuple is a collection which is ordered and unchangeable.\n",
    "\n",
    "Tuples are written with round brackets."
   ]
  },
  {
   "cell_type": "code",
   "execution_count": 9,
   "metadata": {},
   "outputs": [
    {
     "output_type": "stream",
     "name": "stdout",
     "text": [
      "<class 'tuple'>\n<class 'list'>\n"
     ]
    },
    {
     "output_type": "execute_result",
     "data": {
      "text/plain": [
       "[1, 8, 3]"
      ]
     },
     "metadata": {},
     "execution_count": 9
    }
   ],
   "source": [
    "tp=(1,2,3)\n",
    "\n",
    "\n",
    "print(type(tp))\n",
    "\n",
    "#tp[1]=8  # gives you an error because it is not modifiable \n",
    "\n",
    "#print(tp)\n",
    "\n",
    "\n",
    "tp = [1, 2, 3] # now this is a list\n",
    "\n",
    "print(type(tp))\n",
    "\n",
    "tp[1] = 8;\n",
    "[1, 8, 3]"
   ]
  },
  {
   "cell_type": "markdown",
   "metadata": {},
   "source": [
    "# Dictionary:\n",
    "Dictionaries are used to store data values in key:value pairs.\n",
    "\n",
    "A dictionary is a collection which is unordered, changeable and does not allow duplicates.\n",
    "\n",
    "Dictionaries are written with curly brackets, and have keys and values:"
   ]
  },
  {
   "cell_type": "code",
   "execution_count": 24,
   "metadata": {},
   "outputs": [],
   "source": [
    "thisdict = {\n",
    "  \"brand\": \"Ford\",\n",
    "  \"model\": \"Mustang\",\n",
    "  \"year\": 1964,\n",
    "  \"year\": 1957\n",
    "}\n",
    "\n",
    "# b={\"1\":\"a\", 2:[1,2,3]}\n",
    "# # print(type(thisdict))\n",
    "# print(b[2])"
   ]
  },
  {
   "cell_type": "code",
   "execution_count": 18,
   "metadata": {},
   "outputs": [
    {
     "output_type": "stream",
     "name": "stdout",
     "text": [
      "4\n"
     ]
    }
   ],
   "source": [
    "print(len(thisdict))"
   ]
  },
  {
   "cell_type": "code",
   "execution_count": 17,
   "metadata": {},
   "outputs": [],
   "source": [
    "thisdict = {\n",
    "  \"brand\": \"Ford\",\n",
    "  \"electric\": False,\n",
    "  \"year\": 1964,\n",
    "  \"colors\": [\"red\", \"white\", \"blue\"]\n",
    "}"
   ]
  },
  {
   "cell_type": "code",
   "execution_count": 19,
   "metadata": {},
   "outputs": [
    {
     "output_type": "stream",
     "name": "stdout",
     "text": [
      "{'brand': 'Ford', 'electric': False, 'year': 1964, 'colors': ['red', 'white', 'blue']}\n"
     ]
    }
   ],
   "source": [
    "print(thisdict)"
   ]
  },
  {
   "cell_type": "code",
   "execution_count": 20,
   "metadata": {},
   "outputs": [
    {
     "output_type": "stream",
     "name": "stdout",
     "text": [
      "{'brand': 'Ford', 'electric': False, 'year': 1964, 'colors': ['red', 'white', 'blue'], 'engine': 'Diesel'}\n"
     ]
    }
   ],
   "source": [
    "thisdict[\"engine\"] = \"Diesel\"\n",
    "print(thisdict)\n",
    "\n",
    "# thisdict[\"engine\"] = \"Petrol\"\n",
    "# print(thisdict)"
   ]
  },
  {
   "cell_type": "code",
   "execution_count": 21,
   "metadata": {},
   "outputs": [
    {
     "output_type": "stream",
     "name": "stdout",
     "text": [
      "dict_keys(['brand', 'electric', 'year', 'colors', 'engine'])\n"
     ]
    }
   ],
   "source": [
    "print(thisdict.keys())"
   ]
  },
  {
   "cell_type": "code",
   "execution_count": 22,
   "metadata": {},
   "outputs": [
    {
     "output_type": "stream",
     "name": "stdout",
     "text": [
      "dict_values(['Ford', False, 1964, ['red', 'white', 'blue'], 'Diesel'])\n"
     ]
    }
   ],
   "source": [
    "print(thisdict.values())"
   ]
  },
  {
   "cell_type": "code",
   "execution_count": 23,
   "metadata": {},
   "outputs": [
    {
     "output_type": "stream",
     "name": "stdout",
     "text": [
      "dict_items([('brand', 'Ford'), ('electric', False), ('year', 1964), ('colors', ['red', 'white', 'blue']), ('engine', 'Diesel')])\n{'brand': 'Ford', 'electric': False, 'year': 1964, 'colors': ['red', 'white', 'blue'], 'engine': 'Diesel'}\nlist[0]\n"
     ]
    }
   ],
   "source": [
    "print(thisdict.items())\n",
    "print(thisdict)\n",
    "print (list[0])"
   ]
  },
  {
   "cell_type": "markdown",
   "metadata": {},
   "source": [
    "# Sets:\n",
    "Sets are used to store multiple items in a single variable.\n",
    "\n",
    "A set is a collection which is both unordered and unindexed.\n",
    "\n",
    "Sets are written with curly brackets."
   ]
  },
  {
   "cell_type": "code",
   "execution_count": 25,
   "metadata": {},
   "outputs": [
    {
     "output_type": "stream",
     "name": "stdout",
     "text": [
      "set()\n<class 'set'>\n{1, 2, 3, 4, 7, 9}\n{1, 2}\n{1, 2, 3}\n"
     ]
    }
   ],
   "source": [
    "s=set()\n",
    "print(s)\n",
    "\n",
    "\n",
    "print(type(s))\n",
    "\n",
    "s_from_list=set([1,2,3,4,4,9,7,7])\n",
    "print(s_from_list)\n",
    "\n",
    "s.add(1)\n",
    "s.add(2)\n",
    "\n",
    "print(s)\n",
    "\n",
    "s1=s.union({1,2,3})\n",
    "\n",
    "print(s1)\n",
    "\n",
    "# # # #len, type, max, min, difference, issubset, isdisjoint , issupperset etc\n"
   ]
  },
  {
   "cell_type": "code",
   "execution_count": null,
   "metadata": {},
   "outputs": [],
   "source": [
    "a={}\n",
    "print(type(a))"
   ]
  },
  {
   "cell_type": "markdown",
   "metadata": {},
   "source": [
    "# Operators in Python\n",
    "# 1) Arithmetic Operators\n",
    "# 2)Comparision Operators\n",
    "# 3)Logical Operator\n",
    "# 4)Identity Operator\n",
    "# 5)MemberShip Operators\n",
    "# 6)Assignment Operators"
   ]
  },
  {
   "cell_type": "code",
   "execution_count": null,
   "metadata": {},
   "outputs": [],
   "source": [
    "print(\"5 + 6 is\", 5+6)\n",
    "print(\"5 - 6 is\", 5-6)\n",
    "print(\"5 * 6 is\", 5*6)\n",
    "print(\"5 ** 6 is\", 5**6)\n",
    "print(pow(5,6))\n",
    "print(\"5 / 6 is\", 5/6)\n",
    "print(\"150 % 40\",150%40) #Modulo operator\n",
    "print(\"6 // 5 is\", 6//5) #Floor Division\n",
    "\n",
    "\n",
    "# name=\"Nitesh\"\n",
    "# # # print(f\"Hello {name} how are you!\")\n",
    "\n",
    "\n",
    "# print(f\"Hello {name} how are you\")\n"
   ]
  },
  {
   "cell_type": "code",
   "execution_count": null,
   "metadata": {},
   "outputs": [],
   "source": [
    "#Comparision Operator\n",
    "i=int(input())\n",
    "print(i == 8)\n",
    "print(i>=5)\n",
    "print(i!=6)\n"
   ]
  },
  {
   "cell_type": "code",
   "execution_count": null,
   "metadata": {},
   "outputs": [],
   "source": [
    "#Logicall Operator\n",
    "a=True\n",
    "b=False\n",
    "\n",
    "print(a and b)\n",
    "print(a or b)"
   ]
  },
  {
   "cell_type": "code",
   "execution_count": null,
   "metadata": {},
   "outputs": [],
   "source": [
    "#Identity Operator\n",
    "print(a is b)\n",
    "print(a is not b)\n",
    "\n",
    "#Datetime#{\"Monday\":\"Gym\", 0\"Tuesday\":\"Temple\"}\n",
    "\n",
    "#datetime --> Current Day\n",
    "#weekly_plan={\"Monday\":\"Gym\", \"Tuesday\":\"Temple\"}\n",
    "\n",
    "# yoga_day=\"Tuesday\"\n",
    "# today=\"Tuesday\"\n",
    "\n",
    "# print(today is yoga_day)"
   ]
  },
  {
   "cell_type": "code",
   "execution_count": null,
   "metadata": {},
   "outputs": [],
   "source": [
    "#MemberShip Operator\n",
    "list=[3, 5, 9, 33, 25]\n",
    "print(13 not in list)\n",
    "print(13  in list)"
   ]
  },
  {
   "cell_type": "code",
   "execution_count": 3,
   "metadata": {},
   "outputs": [
    {
     "output_type": "stream",
     "name": "stdout",
     "text": [
      "0\n"
     ]
    }
   ],
   "source": [
    "#bit wise operator &(bit wise and), |(bit wise or)\n",
    "\n",
    "print(5&2)"
   ]
  },
  {
   "cell_type": "code",
   "execution_count": 2,
   "metadata": {},
   "outputs": [
    {
     "output_type": "error",
     "ename": "NameError",
     "evalue": "name 'machinelearningmentor' is not defined",
     "traceback": [
      "\u001b[0;31m---------------------------------------------------------------------------\u001b[0m",
      "\u001b[0;31mNameError\u001b[0m                                 Traceback (most recent call last)",
      "\u001b[0;32m/tmp/ipykernel_11608/32821589.py\u001b[0m in \u001b[0;36m<module>\u001b[0;34m\u001b[0m\n\u001b[0;32m----> 1\u001b[0;31m \u001b[0mmachinelearningmentor\u001b[0m\u001b[0;34m.\u001b[0m\u001b[0mksiql\u001b[0m\u001b[0;34m@\u001b[0m\u001b[0mgmail\u001b[0m\u001b[0;34m.\u001b[0m\u001b[0mcom\u001b[0m\u001b[0;34m\u001b[0m\u001b[0;34m\u001b[0m\u001b[0m\n\u001b[0m",
      "\u001b[0;31mNameError\u001b[0m: name 'machinelearningmentor' is not defined"
     ]
    }
   ],
   "source": [
    "machinelearningmentor.ksiql@gmail.com"
   ]
  },
  {
   "cell_type": "code",
   "execution_count": null,
   "metadata": {},
   "outputs": [],
   "source": []
  }
 ],
 "metadata": {
  "kernelspec": {
   "name": "python3",
   "display_name": "Python 3.9.6 64-bit"
  },
  "language_info": {
   "codemirror_mode": {
    "name": "ipython",
    "version": 3
   },
   "file_extension": ".py",
   "mimetype": "text/x-python",
   "name": "python",
   "nbconvert_exporter": "python",
   "pygments_lexer": "ipython3",
   "version": "3.9.6"
  },
  "interpreter": {
   "hash": "767d51c1340bd893661ea55ea3124f6de3c7a262a8b4abca0554b478b1e2ff90"
  }
 },
 "nbformat": 4,
 "nbformat_minor": 4
}