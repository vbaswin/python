{
 "cells": [
  {
   "cell_type": "markdown",
   "metadata": {},
   "source": [
    "# Python Condition Operators and Loop\n",
    "\n",
    "Python supports the usual logical conditions from mathematics:\n",
    "\n",
    "Equals: a == b\n",
    "\n",
    "Not Equals: a != b\n",
    "\n",
    "Less than: a < b\n",
    "\n",
    "Less than or equal to: a <= b\n",
    "\n",
    "Greater than: a > b\n",
    "\n",
    "Greater than or equal to: a >= b\n",
    "\n",
    "These conditions can be used in several ways, most commonly in \"if statements\" and loops.\n",
    "\n",
    "An \"if statement\" is written by using the if keyword."
   ]
  },
  {
   "cell_type": "code",
   "execution_count": null,
   "metadata": {},
   "outputs": [],
   "source": [
    "a = 33\n",
    "b = 200\n",
    "if b > a:\n",
    "    print(\"Yeah b is greater than a\")\n",
    "    print(\"Hello all\")\n",
    "else:\n",
    "    print(\"Condition is not true\")\n",
    "     "
   ]
  },
  {
   "cell_type": "markdown",
   "metadata": {},
   "source": [
    "# In this example we use two variables, a and b, which are used as part of the if statement to test whether b is greater than a. As a is 33, and b is 200, we know that 200 is greater than 33, and so we print to screen that \"b is greater than a\"."
   ]
  },
  {
   "cell_type": "markdown",
   "metadata": {},
   "source": [
    "# Indentation\n",
    "Python relies on indentation (whitespace at the beginning of a line) to define scope in the code. Other programming languages often use curly-brackets for this purpose."
   ]
  },
  {
   "cell_type": "code",
   "execution_count": null,
   "metadata": {},
   "outputs": [],
   "source": [
    "#Eg. Check whether the number inserted by user lies between 10 and 50 (including), \n",
    "#and also check whether the number is even number  \n",
    "\n",
    "\n",
    "a=int(input(\"Enter value of a: \"))\n",
    "if a<=10:\n",
    "    print(\"Number is too small\")\n",
    "\n",
    "if a>=50:\n",
    "    print(\"Number is too Large\")\n",
    "\n",
    "else:\n",
    "    if a % 2 ==0:\n",
    "        print(f\"{a} is even number\")\n",
    "    else:\n",
    "        print(f\"{a} is odd number\")"
   ]
  },
  {
   "cell_type": "code",
   "execution_count": null,
   "metadata": {},
   "outputs": [],
   "source": [
    "#Check condition in list\n",
    "\n",
    "list1=[5,7,3]\n",
    "if 5 in list1:\n",
    "    print(\"Yes its in the list\")\n",
    "\n",
    "if 15 not in list1:\n",
    "    print(\"No its not in the list\")"
   ]
  },
  {
   "cell_type": "code",
   "execution_count": null,
   "metadata": {},
   "outputs": [],
   "source": [
    "#Short Hand if else Operator\n",
    "a= int(input(\"enter a\\n\"))\n",
    "b= int(input(\"enter b\\n\"))\n",
    "\n",
    "print(\"A is greater than B\") if a>=b else print(\"A is Less than or Equal than B\")\n"
   ]
  },
  {
   "cell_type": "markdown",
   "metadata": {},
   "source": [
    "# machinelearningmentor.ksiql@gmail.com"
   ]
  },
  {
   "cell_type": "markdown",
   "metadata": {},
   "source": [
    "# Loops"
   ]
  },
  {
   "cell_type": "markdown",
   "metadata": {},
   "source": [
    "# Python For Loops\n",
    "A for loop is used for iterating over a sequence (that is either a list, a tuple, a dictionary, a set, or a string).\n",
    "\n",
    "This is less like the for keyword in other programming languages, and works more like an iterator method as found in other object-orientated programming languages.\n",
    "\n",
    "With the for loop we can execute a set of statements, once for each item in a list, tuple, set etc."
   ]
  },
  {
   "cell_type": "code",
   "execution_count": null,
   "metadata": {},
   "outputs": [],
   "source": [
    "#Print numbers from 1 to 100\n",
    "\n",
    "\n",
    "for i in range(10,0,-1):\n",
    "#    print(i)\n",
    "    print(i, end=\" \")"
   ]
  },
  {
   "cell_type": "code",
   "execution_count": null,
   "metadata": {},
   "outputs": [],
   "source": [
    "#Some more examples:\n",
    "list_1=[\"Harry\", \"Larry\", \"Carry\", \"Marie\"]\n",
    "dict1=dict(list_1)\n",
    "print(dict1)\n",
    "# for item in list_1:\n",
    "#     print(item)"
   ]
  },
  {
   "cell_type": "code",
   "execution_count": null,
   "metadata": {},
   "outputs": [],
   "source": [
    "list1=[[\"Harry\", 40], [\"Larry\", 70], [\"Carry\", 85], [\"Marie\", 90]]\n",
    "# print(list1[::-1])\n",
    "for item, marks in list1:\n",
    "    print(f\"{item} and mark is {marks}\")\n",
    "\n",
    "\n",
    "\n",
    "# for item, Marks in list1:\n",
    "#    print(f\"{item} and mark is {Marks}\")"
   ]
  },
  {
   "cell_type": "code",
   "execution_count": null,
   "metadata": {},
   "outputs": [],
   "source": [
    "list1=[[\"Harry\", 80], [\"Larry\", 70], [\"Carry\", 85], [\"Marie\", 90]]\n",
    "b=dict(list1)\n",
    "# print(b)\n",
    "\n",
    "# print(b.items())\n",
    "\n",
    "for item, mark in b.items():\n",
    "    print(f\"{item} and mark is {mark}\")"
   ]
  },
  {
   "cell_type": "markdown",
   "metadata": {},
   "source": [
    "# Split and Join method"
   ]
  },
  {
   "cell_type": "code",
   "execution_count": null,
   "metadata": {},
   "outputs": [],
   "source": [
    "a=\"Hello world the sky blue and the river is pink\"\n",
    "b=a.split()\n",
    "b\n",
    "# print(len(b))"
   ]
  },
  {
   "cell_type": "code",
   "execution_count": null,
   "metadata": {},
   "outputs": [],
   "source": [
    "# \" \".join(b)\n",
    "\n",
    "\n",
    "\"-\".join(b)"
   ]
  },
  {
   "cell_type": "markdown",
   "metadata": {},
   "source": [
    "# The while Loop\n",
    "With the while loop we can execute a set of statements as long as a condition is true."
   ]
  },
  {
   "cell_type": "code",
   "execution_count": null,
   "metadata": {},
   "outputs": [],
   "source": [
    "#Example\n",
    "#Print i as long as i is less than 6:\n",
    "\n",
    "i = 1 #Initializing the variable\n",
    "while i <= 10: #Check Condition\n",
    "  print(i)\n",
    "  i += 1 #Increment or decrement\n",
    "    \n",
    "#Note: remember to increment i, or else the loop will continue forever.\n",
    "\n",
    "#The while loop requires relevant variables to be ready, \n",
    "#in this example we need to define an indexing variable, i, which we set to 1."
   ]
  },
  {
   "cell_type": "markdown",
   "metadata": {},
   "source": [
    "# The break Statement\n",
    "With the break statement we can stop the loop even if the while condition is true:\n",
    "\n",
    "Example\n",
    "Exit the loop when i is 3:"
   ]
  },
  {
   "cell_type": "code",
   "execution_count": null,
   "metadata": {},
   "outputs": [],
   "source": [
    "i = 1\n",
    "while i < 6:\n",
    "  print(i)\n",
    "  if i == 3:\n",
    "    break\n",
    "  i += 1"
   ]
  },
  {
   "cell_type": "markdown",
   "metadata": {},
   "source": [
    "# The continue Statement\n",
    "With the continue statement we can stop the current iteration, and continue with the next:\n",
    "\n",
    "Example\n",
    "Continue to the next iteration if i is 3:"
   ]
  },
  {
   "cell_type": "code",
   "execution_count": null,
   "metadata": {},
   "outputs": [],
   "source": [
    "i = 0\n",
    "while i < 6:\n",
    "  i += 1   #i = i + 1\n",
    "  if i == 3:\n",
    "    continue\n",
    "  print(i)\n",
    "\n",
    "\n",
    "# for i in range(4):\n",
    "#     pass\n",
    "\n",
    "    "
   ]
  },
  {
   "cell_type": "markdown",
   "metadata": {},
   "source": [
    "# The else Statement\n",
    "With the else statement we can run a block of code once when the condition no longer is true:\n",
    "\n",
    "Example\n",
    "Print a message once the condition is false:"
   ]
  },
  {
   "cell_type": "code",
   "execution_count": null,
   "metadata": {},
   "outputs": [],
   "source": [
    "i = 1\n",
    "while i < 6:\n",
    "  print(i)\n",
    "  if i == 3:\n",
    "        break\n",
    "  i += 1\n",
    "else:\n",
    "  print(\"i is no longer less than 6\")"
   ]
  },
  {
   "cell_type": "code",
   "execution_count": null,
   "metadata": {},
   "outputs": [],
   "source": [
    "for i in range(10):\n",
    "    if i==6:\n",
    "        continue\n",
    "        \n",
    "    if i==3:\n",
    "        break\n",
    "        \n",
    "    print(i)"
   ]
  },
  {
   "cell_type": "code",
   "execution_count": null,
   "metadata": {},
   "outputs": [],
   "source": [
    "#Assignment check the number inserted by user is prime number or not using for-else or while-else statement\n",
    "\n",
    "num=int(input(\"Enter the number\")) #num = 5\n",
    "\n",
    "for i in range(2,num): \n",
    "    if num%i==0: \n",
    "#         print(f\"Number {num} is not prime number.\")\n",
    "        break\n",
    "        \n",
    "else:\n",
    "    print(f\"Number {num} is prime number.\")"
   ]
  },
  {
   "cell_type": "markdown",
   "metadata": {},
   "source": [
    "# Functions and Doc String"
   ]
  },
  {
   "cell_type": "code",
   "execution_count": null,
   "metadata": {},
   "outputs": [],
   "source": [
    "a=9\n",
    "b=8\n",
    "c=[a,b]\n",
    "#Built in Function\n",
    "d=sum(c)\n",
    "print(d)"
   ]
  },
  {
   "cell_type": "code",
   "execution_count": null,
   "metadata": {},
   "outputs": [],
   "source": [
    "#User Defined Functions.\n",
    "\n",
    "\n",
    "def function1(): #Its defination\n",
    "    print(\"You are in function1\")\n",
    "#     \n",
    "function1() #function calling\n",
    "\n",
    "    \n",
    "    \n",
    "\n"
   ]
  },
  {
   "cell_type": "code",
   "execution_count": null,
   "metadata": {},
   "outputs": [],
   "source": [
    "def function2(a,b):\n",
    "    \"\"\"This is a Function used to calculate\n",
    "    average of two values\"\"\"\n",
    "    average=(a+b)/2\n",
    "#     print(average)\n",
    "    return average\n",
    "\n",
    "\n",
    "# function2(6,8)\n",
    "# print(average)\n",
    "c=function2(6,8)\n",
    "print(c)\n",
    "print(type(c))\n",
    "\n",
    "# print(average)\n",
    "# c=function2(6,8)\n",
    "# print(c)"
   ]
  },
  {
   "cell_type": "code",
   "execution_count": null,
   "metadata": {},
   "outputs": [],
   "source": [
    "# # # #Docstring very important when in a file there are many functions\n",
    "print(function2.__doc__)"
   ]
  },
  {
   "cell_type": "code",
   "execution_count": null,
   "metadata": {},
   "outputs": [],
   "source": [
    "#This is comment.\n",
    "\"\"\"\n",
    "line1\n",
    "line2\n",
    "\n",
    "\n",
    "\"\"\""
   ]
  },
  {
   "cell_type": "code",
   "execution_count": null,
   "metadata": {},
   "outputs": [],
   "source": [
    "print(\"Enter the number You want to calculate Armstrong Series\")\n",
    "num_str=input() #num_str=\"153\"\n",
    "a=int(num_str)#a = 153\n",
    "def arm_strong(b):\n",
    "    res=0\n",
    "    for i in range(len(num_str)):# for i un range(len(3))\n",
    "        c=b%10    # c=153%10 = 3, c=5, c=1\n",
    "        b=b//10   #b=153//10 =15, b=1, b=0\n",
    "        res=res+pow(c,len(num_str)) #res=152 + pow(1,3) = 27 + 125 + 1 = 153\n",
    "    if a==res:\n",
    "        return \"True\"\n",
    "    else:\n",
    "        return \"False\"\n",
    "\n",
    "print(arm_strong(a))"
   ]
  },
  {
   "cell_type": "markdown",
   "metadata": {},
   "source": [
    "# Lambda or Anonymous Function"
   ]
  },
  {
   "cell_type": "code",
   "execution_count": null,
   "metadata": {},
   "outputs": [],
   "source": [
    "#With out lambda function\n",
    "def addition(a, b):\n",
    "    return a+b\n",
    "\n",
    "print(addition(5,4))"
   ]
  },
  {
   "cell_type": "code",
   "execution_count": null,
   "metadata": {},
   "outputs": [],
   "source": [
    "#With lambda Function\n",
    "\n",
    "\n",
    "# addition=lambda x,y:x+y\n",
    "# print(addition(5,4))\n",
    "\n",
    "\n",
    "addition = lambda  x,y: x+y\n",
    "a=addition(5,4)\n",
    "multiply = lambda x:x*9\n",
    "print(multiply(a))\n",
    "\n",
    "\n"
   ]
  },
  {
   "cell_type": "code",
   "execution_count": null,
   "metadata": {},
   "outputs": [],
   "source": [
    "import math\n",
    "# print(dir(math))\n",
    "# print(math.pi)\n",
    "# area_of_circle(r):\n",
    "#     return math.pi*(r**2)\n",
    "\n",
    "\n",
    "\n",
    "area_f_circle = lambda r: math.pi*(r**2)\n",
    "r=int(input(\"Enter radius of a circle: \"))\n",
    "print(area_f_circle(r))"
   ]
  },
  {
   "cell_type": "markdown",
   "metadata": {},
   "source": [
    "# map, filter and reduce method using lambda"
   ]
  },
  {
   "cell_type": "code",
   "execution_count": null,
   "metadata": {},
   "outputs": [],
   "source": [
    "#Without using map: From a given list which contains items of type int create a new list which contains \n",
    "#square of every item in the given list.\n",
    "\n",
    "\n",
    "a=sum([1,2,3])\n",
    "# num=[1,2,3,4,5,6]\n",
    "# sum([1,2,3])\n",
    "# # lst=[]\n",
    "\n",
    "# def filter_1(list_1): #list_1=[1,2,3,4,5,6]\n",
    "#     sum=0\n",
    "#     for i in list_1:\n",
    "#         sum=sum+i\n",
    "#     return sum\n",
    "\n",
    "# filter_1(num)      \n",
    "# print(lst)"
   ]
  },
  {
   "cell_type": "code",
   "execution_count": null,
   "metadata": {},
   "outputs": [],
   "source": [
    "list_1=[1,2,3,4,5,6]\n",
    "list_2=list(map(lambda x:x**2, list_1))\n",
    "print(list_2)\n"
   ]
  },
  {
   "cell_type": "code",
   "execution_count": null,
   "metadata": {},
   "outputs": [],
   "source": [
    "list_2=[1,2,3,4,5,6,7,8]\n",
    "list_2=list(filter(lambda x:x>4, list_2))\n",
    "print(list_2)"
   ]
  },
  {
   "cell_type": "code",
   "execution_count": null,
   "metadata": {},
   "outputs": [],
   "source": [
    "from functools import reduce\n",
    "list_3=[1,2,3,4,5]\n",
    "list_3=reduce(lambda x,y:x+y, list_3)\n",
    "print(list_3)"
   ]
  },
  {
   "cell_type": "markdown",
   "metadata": {},
   "source": [
    "# Try and Except Block"
   ]
  },
  {
   "cell_type": "code",
   "execution_count": null,
   "metadata": {
    "scrolled": true
   },
   "outputs": [],
   "source": [
    "num1=int(input(\"Number 1: \"))\n",
    "num2=int(input(\"Number 2: \"))\n",
    "\n",
    "\n",
    "print(num1/num2)\n",
    "# try:\n",
    "#     print(num1 / num2)\n",
    "\n",
    "# except Exception as e:\n",
    "#     print(e)\n",
    "#     print(\"You divided it by zero\")\n",
    "    \n",
    "print(\"important\")\n",
    "\n",
    "\n",
    "# print(num1/num2)\n",
    "# print(\"important\")"
   ]
  },
  {
   "cell_type": "code",
   "execution_count": null,
   "metadata": {},
   "outputs": [],
   "source": [
    "\n",
    "a=input(\"Value of a: \")\n",
    "b=input(\"Value of b: \")\n",
    "\n",
    "try:\n",
    "    print(int(a)+int(b))\n",
    "    \n",
    "except Exception as e:\n",
    "    print(e)\n",
    "    print(\"Do not provide this input\")\n",
    "\n"
   ]
  },
  {
   "cell_type": "code",
   "execution_count": null,
   "metadata": {},
   "outputs": [],
   "source": [
    "list_1=input(\"Enter the input\")\n",
    "list_1=list_1.split()\n",
    "\n",
    "print(list_1)"
   ]
  },
  {
   "cell_type": "code",
   "execution_count": null,
   "metadata": {},
   "outputs": [],
   "source": [
    "#Decorators: Change the functionality of a Function.(@)\n",
    "#Assign function in another Function\n",
    "\n",
    "\n",
    "#1) When functions assign in other function:\n",
    "# def func1():\n",
    "#     print(\"Hello World\")\n",
    "    \n",
    "# func2=func1\n",
    "# del func1\n",
    "# func2()\n",
    "\n",
    "\n",
    "#2)When function returns function\n",
    "# def func1():\n",
    "#     return print\n",
    "\n",
    "# a=func1()\n",
    "# a(\"Hello World\")\n",
    "\n",
    "\n",
    "\n",
    "#3)When function pass as an argument\n",
    "# def func1(x):\n",
    "#     x(\"Hello\")\n",
    "    \n",
    "# func1(print)\n",
    "\n",
    "def dec1(func):\n",
    "    def nowexec():\n",
    "        print(\"Executing now...\")\n",
    "        func()\n",
    "        print(\"Executed\")\n",
    "    return nowexec()\n",
    "              \n",
    "\n",
    "def who_are_we():\n",
    "    print(\"We are ML Developer\")\n",
    "\n",
    "who_are_we=dec1(who_are_we)\n",
    "who_are_we()"
   ]
  },
  {
   "cell_type": "code",
   "execution_count": 3,
   "metadata": {},
   "outputs": [
    {
     "name": "stdout",
     "output_type": "stream",
     "text": [
      "Executing now...\n",
      "We are ML Developers\n",
      "Executed\n"
     ]
    }
   ],
   "source": [
    "def dec1(func):\n",
    "    def nowexec():\n",
    "        print(\"Executing now...\")\n",
    "        func()\n",
    "        print(\"Executed\")\n",
    "    return nowexec\n",
    "\n",
    "\n",
    "@dec1\n",
    "def who_are_we():\n",
    "    print(\"We are ML Developers\")\n",
    "\n",
    "# who_are_we=dec1(who_are_we)\n",
    "who_are_we()\n",
    "\n",
    "\n",
    "\n",
    "\n",
    "# @classMethod-->(cls)--->(self)\n",
    "# @staticMethod-->\n",
    "# @property-->\n",
    "# etc\n",
    "\n",
    "\n",
    "\n"
   ]
  },
  {
   "cell_type": "code",
   "execution_count": null,
   "metadata": {},
   "outputs": [],
   "source": []
  }
 ],
 "metadata": {
  "kernelspec": {
   "display_name": "Python 3",
   "language": "python",
   "name": "python3"
  },
  "language_info": {
   "codemirror_mode": {
    "name": "ipython",
    "version": 3
   },
   "file_extension": ".py",
   "mimetype": "text/x-python",
   "name": "python",
   "nbconvert_exporter": "python",
   "pygments_lexer": "ipython3",
   "version": "3.6.7"
  }
 },
 "nbformat": 4,
 "nbformat_minor": 4
}
