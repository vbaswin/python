{
 "metadata": {
  "language_info": {
   "codemirror_mode": {
    "name": "ipython",
    "version": 3
   },
   "file_extension": ".py",
   "mimetype": "text/x-python",
   "name": "python",
   "nbconvert_exporter": "python",
   "pygments_lexer": "ipython3",
   "version": "3.9.5"
  },
  "orig_nbformat": 4,
  "kernelspec": {
   "name": "python3",
   "display_name": "Python 3.9.5 64-bit"
  },
  "interpreter": {
   "hash": "767d51c1340bd893661ea55ea3124f6de3c7a262a8b4abca0554b478b1e2ff90"
  }
 },
 "nbformat": 4,
 "nbformat_minor": 2,
 "cells": [
  {
   "cell_type": "code",
   "execution_count": 1,
   "metadata": {},
   "outputs": [
    {
     "output_type": "stream",
     "name": "stdout",
     "text": [
      "Hello\n",
      "h\t\thii\n"
     ]
    }
   ],
   "source": [
    "print(\"Hello\\n World\\b th\\rh\", end = \"\\t\\t\") \n",
    "print(\"hii\")"
   ]
  },
  {
   "cell_type": "code",
   "execution_count": 19,
   "metadata": {},
   "outputs": [
    {
     "output_type": "stream",
     "name": "stdout",
     "text": [
      "Hello\nh\n"
     ]
    }
   ],
   "source": [
    "print(\"Hello\\n World\\b th\\rh\")\n"
   ]
  },
  {
   "cell_type": "code",
   "execution_count": 22,
   "metadata": {},
   "outputs": [
    {
     "output_type": "stream",
     "name": "stdout",
     "text": [
      "5\n"
     ]
    }
   ],
   "source": [
    "# we don't need to specify the data type\n",
    "a = 2 + 3\n",
    "print(a)"
   ]
  },
  {
   "cell_type": "code",
   "execution_count": 51,
   "metadata": {},
   "outputs": [
    {
     "output_type": "stream",
     "name": "stdout",
     "text": [
      "<class 'str'>\n"
     ]
    }
   ],
   "source": [
    "# input command\n",
    "var1 = input(\"Enter the value for var1:\")\n",
    "print(type(var1))\n",
    "\n"
   ]
  },
  {
   "cell_type": "code",
   "execution_count": 52,
   "metadata": {},
   "outputs": [
    {
     "output_type": "stream",
     "name": "stdout",
     "text": [
      "<class 'int'>\n"
     ]
    }
   ],
   "source": [
    "var2 = int(input(\"enter value of var2: \"))\n",
    "print(type(var2))"
   ]
  },
  {
   "cell_type": "code",
   "execution_count": 54,
   "metadata": {},
   "outputs": [
    {
     "output_type": "stream",
     "name": "stdout",
     "text": [
      "HelloAswin\n"
     ]
    }
   ],
   "source": [
    "var3 = \"Hello\"\n",
    "var4 = \"Aswin\"\n",
    "print(var3 + var4)"
   ]
  },
  {
   "cell_type": "code",
   "execution_count": 61,
   "metadata": {},
   "outputs": [
    {
     "output_type": "stream",
     "name": "stdout",
     "text": [
      "Aswin Aswin Aswin Aswin Aswin Aswin Aswin \n"
     ]
    }
   ],
   "source": [
    "var5 = int(input())\n",
    "var6 = \"Aswin \"\n",
    "print(var5 * var6)"
   ]
  },
  {
   "cell_type": "code",
   "execution_count": 74,
   "metadata": {},
   "outputs": [
    {
     "output_type": "stream",
     "name": "stdout",
     "text": [
      "y\ne\n<class 'str'>\n23\npython\npython is good language\npython is good language\npython is good language\npto sgo agae\nph  olgg\neuadgioy\n"
     ]
    }
   ],
   "source": [
    "mystr = \"python is good language\"\n",
    "print(mystr[1])\n",
    "print(mystr[-1])    # from the last \n",
    "\n",
    "print(type(mystr))  # <spaces> are also counted\n",
    "print(len(mystr))\n",
    "\n",
    "print(mystr[0:6])   # slicing\n",
    "                    # excludes the last index\n",
    "\n",
    "print(mystr[0:len(mystr)])\n",
    "print(mystr[:])\n",
    "print(mystr)\n",
    "\n",
    "print(mystr[::2])   # <space> is also counted\n",
    "print(mystr[::3])\n",
    "print(mystr[::-3])"
   ]
  },
  {
   "cell_type": "code",
   "execution_count": 89,
   "metadata": {},
   "outputs": [
    {
     "output_type": "stream",
     "name": "stdout",
     "text": [
      "False\nTrue\n\n\nFalse\nPython is good language\npython are good language\nPYTHON IS GOOD LANGUAGE\n1\n"
     ]
    }
   ],
   "source": [
    "# methods of class str\n",
    "mystr = \"Python is good language\"\n",
    "print(mystr.isalnum())  # methods with is will mostly be bool here alnum -alpha numeric (either it consists of alphebets or numbers or both)\n",
    "mine = \"hi\"\n",
    "print(mine.isalnum())   # answer true because there is no space\n",
    "\n",
    "print(\"\\n\")\n",
    "#isalnum(mystr)\n",
    "print(mystr.endswith(\"Language\"))\n",
    "print(mystr.capitalize())\n",
    "\n",
    "print(mystr.replace(\"is\", \"are\"))\n",
    "print(mystr.upper())\n",
    "print(mystr.count(\"p\"))"
   ]
  },
  {
   "cell_type": "code",
   "execution_count": 100,
   "metadata": {},
   "outputs": [
    {
     "output_type": "stream",
     "name": "stdout",
     "text": [
      "[2, 56, 88, 9, 67]\n[2, 9, 56, 67, 88]\n[88, 67, 56, 9, 2]\n[88, 67, 56, 9]\n5\n88\n2\n[88, 56, 2]\n[2, 9, 56, 67, 88]\n[88, 67, 56, 9, 2, 49]\n[88, 67, 33, 56, 9, 2, 49]\n[88, 67, 33, 56, 2, 49]\n[88, 67, 33, 56, 2, 49, [1, 2, 3, 4, 5]]\n[88, 67, 33, 56, 2, 49, [1, 2, 3, 4, 5], 1, 2, 3, 4, 5]\n[88, 67, 33, 56, 2, 49, [1, 2, 3, 4, 5], 1, 2, 3, 4]\n"
     ]
    }
   ],
   "source": [
    "numbers= [2, 56, 18, 9, 67]\n",
    "numbers[2] = 88     # 1\n",
    "\n",
    "print(numbers)  # it is possible because list is modifiable\n",
    "\n",
    "numbers.sort()\n",
    "print(numbers)\n",
    "\n",
    "numbers.reverse()   # descending order\n",
    "print(numbers)\n",
    "\n",
    "print(numbers[0:4])\n",
    "\n",
    "print(len(numbers))\n",
    "print(max(numbers))\n",
    "print(min(numbers))\n",
    "\n",
    "print(numbers[::2])\n",
    "print(numbers[::-1])\n",
    "\n",
    "numbers.append(49)\n",
    "print(numbers)\n",
    "\n",
    "numbers.insert(2, 33)\n",
    "print(numbers)    # here 1\n",
    "\n",
    "numbers.remove(9)   # here we use the number and not the index\n",
    "print(numbers)\n",
    "\n",
    "b = [1, 2, 3, 4, 5]\n",
    "numbers.append(b)\n",
    "print(numbers)\n",
    "\n",
    "numbers.extend(b)   # this is what you want and not append\n",
    "print(numbers)\n",
    "\n",
    "numbers.pop()       # remove the last\n",
    "print(numbers)\n"
   ]
  },
  {
   "cell_type": "code",
   "execution_count": null,
   "metadata": {},
   "outputs": [],
   "source": [
    "# data type mutable immutable"
   ]
  },
  {
   "cell_type": "code",
   "execution_count": 91,
   "metadata": {},
   "outputs": [
    {
     "output_type": "stream",
     "name": "stdout",
     "text": [
      "<class 'list'>\n['Deo', 'Soap', 'Pencil']\n['Utensils', 'Pencil', 'Soap', 'Deo']\n"
     ]
    }
   ],
   "source": [
    "grocery = [\"Deo\", \"Soap\", \"Pencil\", \"Utensils\"] \n",
    "# they alse have indexes\n",
    "\n",
    "print(type(grocery))\n",
    "print(grocery[0:3])\n",
    "print(grocery[::-1])"
   ]
  },
  {
   "cell_type": "code",
   "execution_count": 106,
   "metadata": {},
   "outputs": [
    {
     "output_type": "stream",
     "name": "stdout",
     "text": [
      "[1, 4, [8, 9]]\ntest\n[8, 9]\ne\n9\n"
     ]
    }
   ],
   "source": [
    "a = [5, 67, [1, 4, [8, 9]], \"hello\", \"test\"]\n",
    "\n",
    "\n",
    "b = a[2]\n",
    "c = a[4]\n",
    "d = b[2]\n",
    "e = c[1]\n",
    "\n",
    "f = a[2][2][1]      # not possible for any other index because there are no subindexes for them\n",
    "\n",
    "print(b)\n",
    "print(c)\n",
    "print(d)\n",
    "print(e)\n",
    "print(f)"
   ]
  },
  {
   "cell_type": "code",
   "execution_count": null,
   "metadata": {},
   "outputs": [],
   "source": []
  }
 ]
}