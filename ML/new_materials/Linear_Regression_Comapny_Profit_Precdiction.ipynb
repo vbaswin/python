{
 "cells": [
  {
   "cell_type": "code",
   "execution_count": 3,
   "source": [
    "#Import the Libraries\n",
    "\n",
    "import pandas as pd\n",
    "import numpy as np\n",
    "import matplotlib.pyplot as plt\n",
    "import seaborn as sns"
   ],
   "outputs": [],
   "metadata": {}
  },
  {
   "cell_type": "code",
   "execution_count": 4,
   "source": [
    "#Load the data set and Extracting the independent and dependent data set\n",
    "companies=pd.read_csv(\"company.csv\")\n",
    "# print(companies.head())\n",
    "x=companies.iloc[:,:-1].values\n",
    "y=companies.iloc[:,-1].values\n",
    "companies.head()\n",
    "# companies.info()"
   ],
   "outputs": [
    {
     "output_type": "execute_result",
     "data": {
      "text/html": [
       "<div>\n",
       "<style scoped>\n",
       "    .dataframe tbody tr th:only-of-type {\n",
       "        vertical-align: middle;\n",
       "    }\n",
       "\n",
       "    .dataframe tbody tr th {\n",
       "        vertical-align: top;\n",
       "    }\n",
       "\n",
       "    .dataframe thead th {\n",
       "        text-align: right;\n",
       "    }\n",
       "</style>\n",
       "<table border=\"1\" class=\"dataframe\">\n",
       "  <thead>\n",
       "    <tr style=\"text-align: right;\">\n",
       "      <th></th>\n",
       "      <th>R&amp;D Spend</th>\n",
       "      <th>Administration</th>\n",
       "      <th>Marketing Spend</th>\n",
       "      <th>State</th>\n",
       "      <th>Profit</th>\n",
       "    </tr>\n",
       "  </thead>\n",
       "  <tbody>\n",
       "    <tr>\n",
       "      <th>0</th>\n",
       "      <td>165349.20</td>\n",
       "      <td>136897.80</td>\n",
       "      <td>471784.10</td>\n",
       "      <td>New York</td>\n",
       "      <td>192261.83</td>\n",
       "    </tr>\n",
       "    <tr>\n",
       "      <th>1</th>\n",
       "      <td>162597.70</td>\n",
       "      <td>151377.59</td>\n",
       "      <td>443898.53</td>\n",
       "      <td>California</td>\n",
       "      <td>191792.06</td>\n",
       "    </tr>\n",
       "    <tr>\n",
       "      <th>2</th>\n",
       "      <td>153441.51</td>\n",
       "      <td>101145.55</td>\n",
       "      <td>407934.54</td>\n",
       "      <td>Florida</td>\n",
       "      <td>191050.39</td>\n",
       "    </tr>\n",
       "    <tr>\n",
       "      <th>3</th>\n",
       "      <td>144372.41</td>\n",
       "      <td>118671.85</td>\n",
       "      <td>383199.62</td>\n",
       "      <td>New York</td>\n",
       "      <td>182901.99</td>\n",
       "    </tr>\n",
       "    <tr>\n",
       "      <th>4</th>\n",
       "      <td>142107.34</td>\n",
       "      <td>91391.77</td>\n",
       "      <td>366168.42</td>\n",
       "      <td>Florida</td>\n",
       "      <td>166187.94</td>\n",
       "    </tr>\n",
       "  </tbody>\n",
       "</table>\n",
       "</div>"
      ],
      "text/plain": [
       "   R&D Spend  Administration  Marketing Spend       State     Profit\n",
       "0  165349.20       136897.80        471784.10    New York  192261.83\n",
       "1  162597.70       151377.59        443898.53  California  191792.06\n",
       "2  153441.51       101145.55        407934.54     Florida  191050.39\n",
       "3  144372.41       118671.85        383199.62    New York  182901.99\n",
       "4  142107.34        91391.77        366168.42     Florida  166187.94"
      ]
     },
     "metadata": {},
     "execution_count": 4
    }
   ],
   "metadata": {}
  },
  {
   "cell_type": "code",
   "execution_count": 6,
   "source": [
    "#Data Visualization \n",
    "#Building the correlation matrix\n",
    "\n",
    "sns.heatmap(companies.corr())\n"
   ],
   "outputs": [
    {
     "output_type": "execute_result",
     "data": {
      "text/plain": [
       "<AxesSubplot:>"
      ]
     },
     "metadata": {},
     "execution_count": 6
    },
    {
     "output_type": "display_data",
     "data": {
      "image/png": "[encoded data removed]",
      "text/plain": [
       "<Figure size 432x288 with 2 Axes>"
      ]
     },
     "metadata": {
      "needs_background": "light"
     }
    }
   ],
   "metadata": {}
  },
  {
   "cell_type": "code",
   "execution_count": 7,
   "source": [
    "#Encoding Categorical Data as in X column 3 is a categorical data so we have to convert it into numeric data\n",
    "from sklearn.preprocessing import LabelEncoder, OneHotEncoder\n",
    "labelencoder=LabelEncoder()\n",
    "x[:,3]=labelencoder.fit_transform(x[:,3])\n",
    "x[:,3]\n",
    "onehotencoder=OneHotEncoder()\n",
    "x=onehotencoder.fit_transform(x).toarray()\n",
    "x"
   ],
   "outputs": [
    {
     "output_type": "execute_result",
     "data": {
      "text/plain": [
       "array([[0., 0., 0., ..., 0., 0., 1.],\n",
       "       [0., 0., 0., ..., 1., 0., 0.],\n",
       "       [0., 0., 0., ..., 0., 1., 0.],\n",
       "       ...,\n",
       "       [0., 0., 0., ..., 1., 0., 0.],\n",
       "       [0., 0., 0., ..., 1., 0., 0.],\n",
       "       [0., 0., 0., ..., 0., 0., 1.]])"
      ]
     },
     "metadata": {},
     "execution_count": 7
    }
   ],
   "metadata": {}
  },
  {
   "cell_type": "code",
   "execution_count": 8,
   "source": [
    "#Spliting the data into train and test set\n",
    "from sklearn.model_selection import train_test_split\n",
    "x_train, x_test, y_train, y_test=train_test_split(x,y,test_size=0.2, random_state=0)\n"
   ],
   "outputs": [],
   "metadata": {}
  },
  {
   "cell_type": "code",
   "execution_count": 9,
   "source": [
    "#Fitting Linera Regression model to Training Set\n",
    "from sklearn.linear_model import LinearRegression\n",
    "reg=LinearRegression()\n",
    "reg.fit(x_train, y_train)"
   ],
   "outputs": [
    {
     "output_type": "execute_result",
     "data": {
      "text/plain": [
       "LinearRegression()"
      ]
     },
     "metadata": {},
     "execution_count": 9
    }
   ],
   "metadata": {}
  },
  {
   "cell_type": "code",
   "execution_count": 10,
   "source": [
    "#Predicting the test set Result\n",
    "y_pred=reg.predict(x_test)\n",
    "y_pred\n"
   ],
   "outputs": [
    {
     "output_type": "execute_result",
     "data": {
      "text/plain": [
       "array([119621.40854824, 119301.26929552, 119845.01554732, 118578.13928856,\n",
       "       118186.28023502, 117917.56562905, 117768.3328381 , 119615.6505263 ,\n",
       "       117728.11875177, 116785.31553844, 115846.21836767, 118560.69390947,\n",
       "       119406.48799427, 122366.62276036, 119527.14717604, 117233.16078317,\n",
       "       118443.04734602, 119527.14717604, 118557.64066218, 117728.11875177,\n",
       "       117783.44096369, 119182.34375467, 118578.13928856, 119725.75301228,\n",
       "       119856.25646187, 119371.96755763, 114216.91249941, 116849.93733992,\n",
       "       118715.81061254, 119527.14717604, 118508.74261496, 119677.46375944,\n",
       "       117115.55102719, 118657.25365467, 117588.50202936, 119676.50440349,\n",
       "       117728.11875177, 118578.13928856, 118578.13928856, 118596.37793982,\n",
       "       117547.90809942, 119527.14717604, 119181.96855401, 120672.9294203 ,\n",
       "       118561.95020471, 120384.4895489 , 118524.94609613, 118315.14776232,\n",
       "       118630.66933281, 118601.99046637, 118578.13928856, 118578.13928856,\n",
       "       120125.52540215, 115588.05347204, 179407.15896321, 119729.31600884,\n",
       "       118603.99775274, 117728.11875177, 117836.88348686, 117599.49772332,\n",
       "       118657.61805292, 116323.3846667 , 119515.91373151, 117739.61397556,\n",
       "       120126.12407473, 118680.72259291, 117678.12691402, 117755.64618647,\n",
       "       119053.98098541, 118578.13928856, 119492.83869552, 119527.14717604,\n",
       "       118222.1226085 , 117787.49374181, 120464.85120189, 118562.34438401,\n",
       "       118520.32554382, 117085.82808046, 119556.89343528, 119473.99515401,\n",
       "       118578.13928856, 119496.5451382 , 117971.21621587, 119608.79806149,\n",
       "       117714.97909166, 117960.74209889, 120059.90871829, 117104.12532546,\n",
       "       119525.76359747, 117757.78783078, 117763.92433279, 118840.72574873,\n",
       "       117128.8939996 , 118480.95655015, 116804.18760809, 118211.2091284 ,\n",
       "       118623.57954068, 117683.92524954, 117728.11875177, 119416.25613188,\n",
       "       118620.83844094, 118630.95037473, 117717.41577694, 118571.18878446,\n",
       "       116751.47530963, 118567.89880566, 118068.69519146, 117728.11875177,\n",
       "       119527.14717604, 117590.87545405, 119527.14717604, 119527.14717604,\n",
       "       117783.76341171, 117728.11875177, 119527.14717604, 117835.47548157,\n",
       "       119527.14717604, 119396.5556718 , 119279.44242454, 117693.75263433,\n",
       "       118678.04952326, 118484.25646634, 118578.13928856, 118744.52320686,\n",
       "       118534.36136684, 119584.57368108, 117728.11875177, 115340.34916902,\n",
       "       119541.3970987 , 119523.05733674, 117728.11875177, 117671.42022863,\n",
       "       119673.14738346, 118064.61158709, 119584.86026723, 117728.11875177,\n",
       "       118528.54134158, 117741.53294903, 118809.01785735, 117548.73157621,\n",
       "       119527.14717604, 119459.54187373, 116744.86666565, 117624.27584159,\n",
       "       116636.70578744, 117296.48615363, 117959.674674  , 119527.14717604,\n",
       "       119446.53570668, 119349.50928007, 118295.8728679 , 118351.7866623 ,\n",
       "       119527.14717604, 119321.33561943, 118578.13928856, 119527.14717604,\n",
       "       118578.13928856, 118357.77489602, 117728.11875177, 118514.73067684,\n",
       "       119077.84138575, 119586.3898201 , 118585.25307965, 118536.23231944,\n",
       "       116450.60707253, 118578.13928856, 118578.13928856, 117872.67843186,\n",
       "       117806.27369241, 117711.14870637, 116762.61882433, 118500.12167906,\n",
       "       117768.83693811, 118578.13928856, 118787.6866062 , 118439.58502813,\n",
       "       118616.99881835, 117728.68859037, 117594.36008135, 119462.88284049,\n",
       "       118578.13928856, 117728.11875177, 119599.60328915, 117734.51782296,\n",
       "       118658.79603471, 118349.87523206, 118931.37069777, 122414.68025134,\n",
       "       117864.80244728, 117428.39662353, 118578.13928856, 119523.33376417,\n",
       "       117361.90907375, 117728.11875177, 119501.35841013, 119527.14717604,\n",
       "       118578.13928856, 119515.08174206, 117723.17263937, 117799.175438  ])"
      ]
     },
     "metadata": {},
     "execution_count": 10
    }
   ],
   "metadata": {}
  },
  {
   "cell_type": "code",
   "execution_count": 11,
   "source": [
    "#Calculating Intercept\n",
    "print(reg.intercept_)"
   ],
   "outputs": [
    {
     "output_type": "stream",
     "name": "stdout",
     "text": [
      "121893.50759330839\n"
     ]
    }
   ],
   "metadata": {}
  },
  {
   "cell_type": "code",
   "execution_count": 12,
   "source": [
    "#Calculating Coefficient\n",
    "print(reg.coef_)\n"
   ],
   "outputs": [
    {
     "output_type": "stream",
     "name": "stdout",
     "text": [
      "[-41795.22148845 -27938.22778235  -3511.20625236 ...  -2366.36041727\n",
      "  -3315.36830475  -4165.38884154]\n"
     ]
    }
   ],
   "metadata": {}
  },
  {
   "cell_type": "code",
   "execution_count": 13,
   "source": [
    "from sklearn.metrics import r2_score\n",
    "r2_score(y_test,y_pred)"
   ],
   "outputs": [
    {
     "output_type": "execute_result",
     "data": {
      "text/plain": [
       "0.00042816742154117016"
      ]
     },
     "metadata": {},
     "execution_count": 13
    }
   ],
   "metadata": {}
  },
  {
   "cell_type": "code",
   "execution_count": 14,
   "source": [
    "#Find Accuracy "
   ],
   "outputs": [],
   "metadata": {}
  }
 ],
 "metadata": {
  "kernelspec": {
   "name": "python3",
   "display_name": "Python 3.9.6 64-bit"
  },
  "language_info": {
   "codemirror_mode": {
    "name": "ipython",
    "version": 3
   },
   "file_extension": ".py",
   "mimetype": "text/x-python",
   "name": "python",
   "nbconvert_exporter": "python",
   "pygments_lexer": "ipython3",
   "version": "3.9.6"
  },
  "interpreter": {
   "hash": "e7370f93d1d0cde622a1f8e1c04877d8463912d04d973331ad4851f04de6915a"
  }
 },
 "nbformat": 4,
 "nbformat_minor": 2
}